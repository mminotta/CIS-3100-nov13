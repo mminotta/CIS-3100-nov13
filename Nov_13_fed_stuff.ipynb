{
  "nbformat": 4,
  "nbformat_minor": 0,
  "metadata": {
    "colab": {
      "provenance": []
    },
    "kernelspec": {
      "name": "python3",
      "display_name": "Python 3"
    },
    "language_info": {
      "name": "python"
    }
  },
  "cells": [
    {
      "cell_type": "markdown",
      "source": [],
      "metadata": {
        "id": "u9DDCIwV2Bav"
      }
    },
    {
      "cell_type": "code",
      "execution_count": 1,
      "metadata": {
        "id": "rN5BXuTXvbGg"
      },
      "outputs": [],
      "source": [
        "FED_KEY = '8e325072cc17d6a0d6390d6f17fe1dd0'"
      ]
    },
    {
      "cell_type": "markdown",
      "source": [],
      "metadata": {
        "id": "VEi1Okwt2C5T"
      }
    },
    {
      "cell_type": "code",
      "source": [
        "# prompt: using the above api key, use federal reserve data (FRED) to get bitcoin and CPI announcement data, and construct a granger causality analysis between these two data sets\n",
        "\n",
        "# Install necessary libraries\n",
        "!pip install fredapi statsmodels\n",
        "\n",
        "# Import libraries\n",
        "import pandas as pd\n",
        "from fredapi import Fred\n",
        "from statsmodels.tsa.stattools import grangercausalitytests\n",
        "\n",
        "# Your FRED API key\n",
        "FED_KEY = '8e325072cc17d6a0d6390d6f17fe1dd0'  # Replace with your actual API key\n",
        "\n",
        "# Initialize the FRED API client\n",
        "fred = Fred(api_key=FED_KEY)\n",
        "\n",
        "# Get Bitcoin price data (example series, replace with the appropriate series ID)\n",
        "try:\n",
        "    bitcoin_data = fred.get_series('CBBTCUSD') # Example series ID, replace with actual\n",
        "    bitcoin_data = bitcoin_data.dropna() # Remove NaN values\n",
        "except Exception as e:\n",
        "    print(f\"Error fetching Bitcoin data: {e}\")\n",
        "    bitcoin_data = None\n",
        "\n",
        "\n",
        "# Get CPI data (example series, replace with the appropriate series ID)\n",
        "try:\n",
        "    cpi_data = fred.get_series('CPIAUCSL') # Example series ID\n",
        "    cpi_data = cpi_data.dropna() #Remove NaN values\n",
        "except Exception as e:\n",
        "    print(f\"Error fetching CPI data: {e}\")\n",
        "    cpi_data = None\n",
        "\n",
        "# Check if data was retrieved successfully\n",
        "if bitcoin_data is not None and cpi_data is not None:\n",
        "    # Combine the data into a single DataFrame, aligning by date\n",
        "    df = pd.DataFrame({'bitcoin': bitcoin_data, 'cpi': cpi_data})\n",
        "    df = df.dropna()  # Drop rows with any missing values\n",
        "\n",
        "    # Perform Granger Causality test\n",
        "    maxlag = 12 # Maximum lag to consider\n",
        "    test_result = grangercausalitytests(df[['bitcoin', 'cpi']], maxlag=maxlag, verbose=False)\n",
        "\n",
        "    # Print or analyze the test results\n",
        "    for lag, result in test_result.items():\n",
        "        p_value = result[0]['ssr_ftest'][1] # Extract p-value from the F-test\n",
        "        print(f\"Lag {lag}: p-value = {p_value}\")\n",
        "\n",
        "        #Interpret the results\n",
        "        if p_value < 0.05: # Example significance level of 0.05\n",
        "            print(f\"Bitcoin Granger-causes CPI (or vice versa) at lag {lag}\")\n",
        "        else:\n",
        "            print(f\"No significant Granger causality found at lag {lag}\")\n",
        "\n",
        "else:\n",
        "    print(\"Could not retrieve both Bitcoin and CPI data. Please verify series IDs and API key.\")"
      ],
      "metadata": {
        "colab": {
          "base_uri": "https://localhost:8080/"
        },
        "id": "ctuDy0GF2JxM",
        "outputId": "be86fb46-73ce-4345-ecbf-0b3a51c067c2"
      },
      "execution_count": 2,
      "outputs": [
        {
          "output_type": "stream",
          "name": "stdout",
          "text": [
            "Collecting fredapi\n",
            "  Downloading fredapi-0.5.2-py3-none-any.whl.metadata (5.0 kB)\n",
            "Requirement already satisfied: statsmodels in /usr/local/lib/python3.10/dist-packages (0.14.4)\n",
            "Requirement already satisfied: pandas in /usr/local/lib/python3.10/dist-packages (from fredapi) (2.2.2)\n",
            "Requirement already satisfied: numpy<3,>=1.22.3 in /usr/local/lib/python3.10/dist-packages (from statsmodels) (1.26.4)\n",
            "Requirement already satisfied: scipy!=1.9.2,>=1.8 in /usr/local/lib/python3.10/dist-packages (from statsmodels) (1.13.1)\n",
            "Requirement already satisfied: patsy>=0.5.6 in /usr/local/lib/python3.10/dist-packages (from statsmodels) (0.5.6)\n",
            "Requirement already satisfied: packaging>=21.3 in /usr/local/lib/python3.10/dist-packages (from statsmodels) (24.2)\n",
            "Requirement already satisfied: python-dateutil>=2.8.2 in /usr/local/lib/python3.10/dist-packages (from pandas->fredapi) (2.8.2)\n",
            "Requirement already satisfied: pytz>=2020.1 in /usr/local/lib/python3.10/dist-packages (from pandas->fredapi) (2024.2)\n",
            "Requirement already satisfied: tzdata>=2022.7 in /usr/local/lib/python3.10/dist-packages (from pandas->fredapi) (2024.2)\n",
            "Requirement already satisfied: six in /usr/local/lib/python3.10/dist-packages (from patsy>=0.5.6->statsmodels) (1.16.0)\n",
            "Downloading fredapi-0.5.2-py3-none-any.whl (11 kB)\n",
            "Installing collected packages: fredapi\n",
            "Successfully installed fredapi-0.5.2\n",
            "Lag 1: p-value = 0.093086583516178\n",
            "No significant Granger causality found at lag 1\n",
            "Lag 2: p-value = 0.12416407128939652\n",
            "No significant Granger causality found at lag 2\n",
            "Lag 3: p-value = 0.1933704137748121\n",
            "No significant Granger causality found at lag 3\n",
            "Lag 4: p-value = 0.3685111865131149\n",
            "No significant Granger causality found at lag 4\n",
            "Lag 5: p-value = 0.4263371075416872\n",
            "No significant Granger causality found at lag 5\n",
            "Lag 6: p-value = 0.5560133198515043\n",
            "No significant Granger causality found at lag 6\n",
            "Lag 7: p-value = 0.5682805997768959\n",
            "No significant Granger causality found at lag 7\n",
            "Lag 8: p-value = 0.5511547269402718\n",
            "No significant Granger causality found at lag 8\n",
            "Lag 9: p-value = 0.4233851378559374\n",
            "No significant Granger causality found at lag 9\n",
            "Lag 10: p-value = 0.715067513604405\n",
            "No significant Granger causality found at lag 10\n",
            "Lag 11: p-value = 0.5363883679492247\n",
            "No significant Granger causality found at lag 11\n",
            "Lag 12: p-value = 0.12109404370227116\n",
            "No significant Granger causality found at lag 12\n"
          ]
        },
        {
          "output_type": "stream",
          "name": "stderr",
          "text": [
            "/usr/local/lib/python3.10/dist-packages/statsmodels/tsa/stattools.py:1556: FutureWarning: verbose is deprecated since functions should not print results\n",
            "  warnings.warn(\n"
          ]
        }
      ]
    }
  ]
}